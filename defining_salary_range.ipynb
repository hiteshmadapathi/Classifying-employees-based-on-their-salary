{
  "nbformat": 4,
  "nbformat_minor": 0,
  "metadata": {
    "kernelspec": {
      "display_name": "Python 3",
      "language": "python",
      "name": "python3"
    },
    "language_info": {
      "codemirror_mode": {
        "name": "ipython",
        "version": 3
      },
      "file_extension": ".py",
      "mimetype": "text/x-python",
      "name": "python",
      "nbconvert_exporter": "python",
      "pygments_lexer": "ipython3",
      "version": "3.8.5"
    },
    "colab": {
      "name": "defining salary range.ipynb",
      "provenance": []
    }
  },
  "cells": [
    {
      "cell_type": "code",
      "metadata": {
        "colab": {
          "base_uri": "https://localhost:8080/"
        },
        "id": "g9gizTsgwoGr",
        "outputId": "e733cd3b-89f4-44b3-8429-3c313c3f74cd"
      },
      "source": [
        "from google.colab import drive\n",
        "drive.mount('/content/drive')"
      ],
      "execution_count": 1,
      "outputs": [
        {
          "output_type": "stream",
          "text": [
            "Mounted at /content/drive\n"
          ],
          "name": "stdout"
        }
      ]
    },
    {
      "cell_type": "code",
      "metadata": {
        "id": "sTrBSU6swbeL"
      },
      "source": [
        "import pandas as pd\n",
        "import numpy as np\n",
        "import matplotlib.pyplot as plt\n",
        "import seaborn as sn\n",
        "from sklearn.metrics import confusion_matrix\n",
        "from sklearn import metrics,tree\n",
        "import seaborn as sns\n",
        "\n",
        "from sklearn.model_selection import train_test_split\n",
        "from sklearn.metrics import accuracy_score,confusion_matrix,classification_report"
      ],
      "execution_count": 2,
      "outputs": []
    },
    {
      "cell_type": "code",
      "metadata": {
        "id": "T7I_rki-wbeN"
      },
      "source": [
        "pd.options.display.max_columns=None   # To display all the columns"
      ],
      "execution_count": 3,
      "outputs": []
    },
    {
      "cell_type": "code",
      "metadata": {
        "colab": {
          "base_uri": "https://localhost:8080/",
          "height": 509
        },
        "id": "VL-Squ9MwbeO",
        "outputId": "358c9835-879f-4141-8118-b22122881905"
      },
      "source": [
        "# Loading data\n",
        "train = pd.read_csv('/content/drive/MyDrive/Projects/Classifying-employees-based-on-salary-master/train.csv')\n",
        "test = pd.read_csv('/content/drive/MyDrive/Projects/Classifying-employees-based-on-salary-master/test.csv')\n",
        "test.head()"
      ],
      "execution_count": 4,
      "outputs": [
        {
          "output_type": "execute_result",
          "data": {
            "text/html": [
              "<div>\n",
              "<style scoped>\n",
              "    .dataframe tbody tr th:only-of-type {\n",
              "        vertical-align: middle;\n",
              "    }\n",
              "\n",
              "    .dataframe tbody tr th {\n",
              "        vertical-align: top;\n",
              "    }\n",
              "\n",
              "    .dataframe thead th {\n",
              "        text-align: right;\n",
              "    }\n",
              "</style>\n",
              "<table border=\"1\" class=\"dataframe\">\n",
              "  <thead>\n",
              "    <tr style=\"text-align: right;\">\n",
              "      <th></th>\n",
              "      <th>ID</th>\n",
              "      <th>Year Type</th>\n",
              "      <th>Year</th>\n",
              "      <th>Organization Group Code</th>\n",
              "      <th>Organization Group</th>\n",
              "      <th>Department Code</th>\n",
              "      <th>Department</th>\n",
              "      <th>Union Code</th>\n",
              "      <th>Union</th>\n",
              "      <th>Job Family Code</th>\n",
              "      <th>Job Family</th>\n",
              "      <th>Job Code</th>\n",
              "      <th>Job</th>\n",
              "      <th>Employee Identifier</th>\n",
              "      <th>Overtime</th>\n",
              "      <th>Other Salaries</th>\n",
              "      <th>Retirement</th>\n",
              "      <th>Health/Dental</th>\n",
              "      <th>Other Benefits</th>\n",
              "      <th>Total Benefits</th>\n",
              "      <th>Class</th>\n",
              "    </tr>\n",
              "  </thead>\n",
              "  <tbody>\n",
              "    <tr>\n",
              "      <th>0</th>\n",
              "      <td>50877</td>\n",
              "      <td>Fiscal</td>\n",
              "      <td>2016</td>\n",
              "      <td>6</td>\n",
              "      <td>General Administration &amp; Finance</td>\n",
              "      <td>ADM</td>\n",
              "      <td>ADM Gen Svcs Agency-City Admin</td>\n",
              "      <td>790</td>\n",
              "      <td>SEIU - Miscellaneous, Local 1021</td>\n",
              "      <td>2500</td>\n",
              "      <td>Med Therapy &amp; Auxiliary</td>\n",
              "      <td>2578</td>\n",
              "      <td>Med Examiner's Investigator II</td>\n",
              "      <td>12805</td>\n",
              "      <td>1387.31</td>\n",
              "      <td>3644.19</td>\n",
              "      <td>6767.72</td>\n",
              "      <td>4361.97</td>\n",
              "      <td>3377.16</td>\n",
              "      <td>14506.85</td>\n",
              "      <td>1</td>\n",
              "    </tr>\n",
              "    <tr>\n",
              "      <th>1</th>\n",
              "      <td>161168</td>\n",
              "      <td>Fiscal</td>\n",
              "      <td>2016</td>\n",
              "      <td>1</td>\n",
              "      <td>Public Protection</td>\n",
              "      <td>POL</td>\n",
              "      <td>POL Police</td>\n",
              "      <td>911</td>\n",
              "      <td>Police Officers' Association</td>\n",
              "      <td>Q000</td>\n",
              "      <td>Police Services</td>\n",
              "      <td>Q002</td>\n",
              "      <td>Police Officer</td>\n",
              "      <td>39215</td>\n",
              "      <td>0.00</td>\n",
              "      <td>12087.57</td>\n",
              "      <td>8368.04</td>\n",
              "      <td>6977.73</td>\n",
              "      <td>922.73</td>\n",
              "      <td>16268.50</td>\n",
              "      <td>2</td>\n",
              "    </tr>\n",
              "    <tr>\n",
              "      <th>2</th>\n",
              "      <td>165825</td>\n",
              "      <td>Fiscal</td>\n",
              "      <td>2014</td>\n",
              "      <td>2</td>\n",
              "      <td>Public Works, Transportation &amp; Commerce</td>\n",
              "      <td>MTA</td>\n",
              "      <td>MTA Municipal Transprtn Agncy</td>\n",
              "      <td>253</td>\n",
              "      <td>Transport Workers - Transit Operators, Local 2...</td>\n",
              "      <td>9100</td>\n",
              "      <td>Street Transit</td>\n",
              "      <td>9163</td>\n",
              "      <td>Transit Operator</td>\n",
              "      <td>56734</td>\n",
              "      <td>22693.82</td>\n",
              "      <td>4991.83</td>\n",
              "      <td>19958.00</td>\n",
              "      <td>13105.21</td>\n",
              "      <td>7216.69</td>\n",
              "      <td>40279.90</td>\n",
              "      <td>2</td>\n",
              "    </tr>\n",
              "    <tr>\n",
              "      <th>3</th>\n",
              "      <td>134872</td>\n",
              "      <td>Fiscal</td>\n",
              "      <td>2014</td>\n",
              "      <td>3</td>\n",
              "      <td>Human Welfare &amp; Neighborhood Development</td>\n",
              "      <td>DSS</td>\n",
              "      <td>HSA Human Services Agency</td>\n",
              "      <td>250</td>\n",
              "      <td>SEIU - Health Workers, Local 1021</td>\n",
              "      <td>7500</td>\n",
              "      <td>Semi-Skilled &amp; General Labor</td>\n",
              "      <td>7524</td>\n",
              "      <td>Institution Utility Worker</td>\n",
              "      <td>28377</td>\n",
              "      <td>0.00</td>\n",
              "      <td>626.40</td>\n",
              "      <td>12914.72</td>\n",
              "      <td>12516.72</td>\n",
              "      <td>4291.71</td>\n",
              "      <td>29723.15</td>\n",
              "      <td>2</td>\n",
              "    </tr>\n",
              "    <tr>\n",
              "      <th>4</th>\n",
              "      <td>99872</td>\n",
              "      <td>Fiscal</td>\n",
              "      <td>2016</td>\n",
              "      <td>2</td>\n",
              "      <td>Public Works, Transportation &amp; Commerce</td>\n",
              "      <td>DPW</td>\n",
              "      <td>DPW GSA - Public Works</td>\n",
              "      <td>1</td>\n",
              "      <td>Miscellaneous Unrepresented Employees</td>\n",
              "      <td>9900</td>\n",
              "      <td>Public Service Aide</td>\n",
              "      <td>9916</td>\n",
              "      <td>Public Svc Aide-Public Works</td>\n",
              "      <td>44544</td>\n",
              "      <td>356.40</td>\n",
              "      <td>992.81</td>\n",
              "      <td>7085.63</td>\n",
              "      <td>13125.67</td>\n",
              "      <td>2637.39</td>\n",
              "      <td>22848.69</td>\n",
              "      <td>1</td>\n",
              "    </tr>\n",
              "  </tbody>\n",
              "</table>\n",
              "</div>"
            ],
            "text/plain": [
              "       ID Year Type  Year  Organization Group Code  \\\n",
              "0   50877    Fiscal  2016                        6   \n",
              "1  161168    Fiscal  2016                        1   \n",
              "2  165825    Fiscal  2014                        2   \n",
              "3  134872    Fiscal  2014                        3   \n",
              "4   99872    Fiscal  2016                        2   \n",
              "\n",
              "                         Organization Group Department Code  \\\n",
              "0          General Administration & Finance             ADM   \n",
              "1                         Public Protection             POL   \n",
              "2   Public Works, Transportation & Commerce             MTA   \n",
              "3  Human Welfare & Neighborhood Development             DSS   \n",
              "4   Public Works, Transportation & Commerce             DPW   \n",
              "\n",
              "                       Department  Union Code  \\\n",
              "0  ADM Gen Svcs Agency-City Admin         790   \n",
              "1                      POL Police         911   \n",
              "2   MTA Municipal Transprtn Agncy         253   \n",
              "3       HSA Human Services Agency         250   \n",
              "4          DPW GSA - Public Works           1   \n",
              "\n",
              "                                               Union Job Family Code  \\\n",
              "0                   SEIU - Miscellaneous, Local 1021            2500   \n",
              "1                       Police Officers' Association            Q000   \n",
              "2  Transport Workers - Transit Operators, Local 2...            9100   \n",
              "3                  SEIU - Health Workers, Local 1021            7500   \n",
              "4              Miscellaneous Unrepresented Employees            9900   \n",
              "\n",
              "                     Job Family Job Code                             Job  \\\n",
              "0       Med Therapy & Auxiliary     2578  Med Examiner's Investigator II   \n",
              "1               Police Services     Q002                  Police Officer   \n",
              "2                Street Transit     9163                Transit Operator   \n",
              "3  Semi-Skilled & General Labor     7524      Institution Utility Worker   \n",
              "4           Public Service Aide     9916    Public Svc Aide-Public Works   \n",
              "\n",
              "   Employee Identifier  Overtime  Other Salaries  Retirement  Health/Dental  \\\n",
              "0                12805   1387.31         3644.19     6767.72        4361.97   \n",
              "1                39215      0.00        12087.57     8368.04        6977.73   \n",
              "2                56734  22693.82         4991.83    19958.00       13105.21   \n",
              "3                28377      0.00          626.40    12914.72       12516.72   \n",
              "4                44544    356.40          992.81     7085.63       13125.67   \n",
              "\n",
              "   Other Benefits  Total Benefits  Class  \n",
              "0         3377.16        14506.85      1  \n",
              "1          922.73        16268.50      2  \n",
              "2         7216.69        40279.90      2  \n",
              "3         4291.71        29723.15      2  \n",
              "4         2637.39        22848.69      1  "
            ]
          },
          "metadata": {
            "tags": []
          },
          "execution_count": 4
        }
      ]
    },
    {
      "cell_type": "code",
      "metadata": {
        "colab": {
          "base_uri": "https://localhost:8080/"
        },
        "id": "Aysjch_qwbeP",
        "outputId": "b096cd7d-bd96-4bae-9499-ad5e70750ab6"
      },
      "source": [
        "train.isnull().sum()"
      ],
      "execution_count": 5,
      "outputs": [
        {
          "output_type": "execute_result",
          "data": {
            "text/plain": [
              "ID                         0\n",
              "Year Type                  0\n",
              "Year                       0\n",
              "Organization Group Code    0\n",
              "Organization Group         0\n",
              "Department Code            0\n",
              "Department                 0\n",
              "Union Code                 0\n",
              "Union                      0\n",
              "Job Family Code            0\n",
              "Job Family                 0\n",
              "Job Code                   0\n",
              "Job                        0\n",
              "Employee Identifier        0\n",
              "Overtime                   0\n",
              "Other Salaries             0\n",
              "Retirement                 0\n",
              "Health/Dental              0\n",
              "Other Benefits             0\n",
              "Total Benefits             0\n",
              "Class                      0\n",
              "dtype: int64"
            ]
          },
          "metadata": {
            "tags": []
          },
          "execution_count": 5
        }
      ]
    },
    {
      "cell_type": "markdown",
      "metadata": {
        "id": "T-bbYTFdwbeR"
      },
      "source": [
        "\n",
        "\n",
        "\n",
        "\n",
        "# Feature Engineering\n",
        "\n"
      ]
    },
    {
      "cell_type": "code",
      "metadata": {
        "id": "rMysF9SkwbeS"
      },
      "source": [
        "# Dropping irrelevant and duplicate columns\n",
        "col = ['Year','Organization Group Code','Department Code','Union','Job Family Code',\\\n",
        "       'Job','Overtime','Other Salaries',\\\n",
        "       'Retirement','Health/Dental','Other Benefits','Total Benefits','Class']"
      ],
      "execution_count": 6,
      "outputs": []
    },
    {
      "cell_type": "code",
      "metadata": {
        "colab": {
          "base_uri": "https://localhost:8080/",
          "height": 287
        },
        "id": "WMcHqPLAwbeT",
        "outputId": "956fc7a6-b29c-4cb3-832e-79878d43f170"
      },
      "source": [
        "# Data with new set of columns\n",
        "train_new = train[col].copy()\n",
        "test_new = test[col].copy()\n",
        "train_new.head()"
      ],
      "execution_count": 7,
      "outputs": [
        {
          "output_type": "execute_result",
          "data": {
            "text/html": [
              "<div>\n",
              "<style scoped>\n",
              "    .dataframe tbody tr th:only-of-type {\n",
              "        vertical-align: middle;\n",
              "    }\n",
              "\n",
              "    .dataframe tbody tr th {\n",
              "        vertical-align: top;\n",
              "    }\n",
              "\n",
              "    .dataframe thead th {\n",
              "        text-align: right;\n",
              "    }\n",
              "</style>\n",
              "<table border=\"1\" class=\"dataframe\">\n",
              "  <thead>\n",
              "    <tr style=\"text-align: right;\">\n",
              "      <th></th>\n",
              "      <th>Year</th>\n",
              "      <th>Organization Group Code</th>\n",
              "      <th>Department Code</th>\n",
              "      <th>Union</th>\n",
              "      <th>Job Family Code</th>\n",
              "      <th>Job</th>\n",
              "      <th>Overtime</th>\n",
              "      <th>Other Salaries</th>\n",
              "      <th>Retirement</th>\n",
              "      <th>Health/Dental</th>\n",
              "      <th>Other Benefits</th>\n",
              "      <th>Total Benefits</th>\n",
              "      <th>Class</th>\n",
              "    </tr>\n",
              "  </thead>\n",
              "  <tbody>\n",
              "    <tr>\n",
              "      <th>0</th>\n",
              "      <td>2015</td>\n",
              "      <td>3</td>\n",
              "      <td>DSS</td>\n",
              "      <td>SEIU - Human Services, Local 1021</td>\n",
              "      <td>2900</td>\n",
              "      <td>Senior Eligibility Worker</td>\n",
              "      <td>4091.51</td>\n",
              "      <td>2066.40</td>\n",
              "      <td>17570.65</td>\n",
              "      <td>12501.45</td>\n",
              "      <td>6740.39</td>\n",
              "      <td>36812.49</td>\n",
              "      <td>2</td>\n",
              "    </tr>\n",
              "    <tr>\n",
              "      <th>1</th>\n",
              "      <td>2014</td>\n",
              "      <td>2</td>\n",
              "      <td>MTA</td>\n",
              "      <td>Transport Workers - Transit Operators, Local 2...</td>\n",
              "      <td>9100</td>\n",
              "      <td>Transit Operator</td>\n",
              "      <td>27816.21</td>\n",
              "      <td>1185.88</td>\n",
              "      <td>19338.00</td>\n",
              "      <td>13445.88</td>\n",
              "      <td>7298.74</td>\n",
              "      <td>40082.62</td>\n",
              "      <td>2</td>\n",
              "    </tr>\n",
              "    <tr>\n",
              "      <th>2</th>\n",
              "      <td>2016</td>\n",
              "      <td>5</td>\n",
              "      <td>LIB</td>\n",
              "      <td>SEIU - Miscellaneous, Local 1021</td>\n",
              "      <td>3600</td>\n",
              "      <td>Librarian 2</td>\n",
              "      <td>0.00</td>\n",
              "      <td>1516.36</td>\n",
              "      <td>18149.13</td>\n",
              "      <td>13175.97</td>\n",
              "      <td>7831.28</td>\n",
              "      <td>39156.38</td>\n",
              "      <td>3</td>\n",
              "    </tr>\n",
              "    <tr>\n",
              "      <th>3</th>\n",
              "      <td>2014</td>\n",
              "      <td>1</td>\n",
              "      <td>ECD</td>\n",
              "      <td>SEIU - Miscellaneous, Local 1021</td>\n",
              "      <td>8200</td>\n",
              "      <td>Public Safetycomm Supv</td>\n",
              "      <td>12235.56</td>\n",
              "      <td>13348.36</td>\n",
              "      <td>22177.39</td>\n",
              "      <td>12444.79</td>\n",
              "      <td>9566.78</td>\n",
              "      <td>44188.96</td>\n",
              "      <td>3</td>\n",
              "    </tr>\n",
              "    <tr>\n",
              "      <th>4</th>\n",
              "      <td>2015</td>\n",
              "      <td>1</td>\n",
              "      <td>SHF</td>\n",
              "      <td>Deputy Sheriffs' Association</td>\n",
              "      <td>8300</td>\n",
              "      <td>Deputy Sheriff</td>\n",
              "      <td>36837.03</td>\n",
              "      <td>13675.04</td>\n",
              "      <td>23377.98</td>\n",
              "      <td>11113.55</td>\n",
              "      <td>2310.65</td>\n",
              "      <td>36802.18</td>\n",
              "      <td>3</td>\n",
              "    </tr>\n",
              "  </tbody>\n",
              "</table>\n",
              "</div>"
            ],
            "text/plain": [
              "   Year  Organization Group Code Department Code  \\\n",
              "0  2015                        3             DSS   \n",
              "1  2014                        2             MTA   \n",
              "2  2016                        5             LIB   \n",
              "3  2014                        1             ECD   \n",
              "4  2015                        1             SHF   \n",
              "\n",
              "                                               Union Job Family Code  \\\n",
              "0                  SEIU - Human Services, Local 1021            2900   \n",
              "1  Transport Workers - Transit Operators, Local 2...            9100   \n",
              "2                   SEIU - Miscellaneous, Local 1021            3600   \n",
              "3                   SEIU - Miscellaneous, Local 1021            8200   \n",
              "4                       Deputy Sheriffs' Association            8300   \n",
              "\n",
              "                         Job  Overtime  Other Salaries  Retirement  \\\n",
              "0  Senior Eligibility Worker   4091.51         2066.40    17570.65   \n",
              "1           Transit Operator  27816.21         1185.88    19338.00   \n",
              "2                Librarian 2      0.00         1516.36    18149.13   \n",
              "3     Public Safetycomm Supv  12235.56        13348.36    22177.39   \n",
              "4             Deputy Sheriff  36837.03        13675.04    23377.98   \n",
              "\n",
              "   Health/Dental  Other Benefits  Total Benefits  Class  \n",
              "0       12501.45         6740.39        36812.49      2  \n",
              "1       13445.88         7298.74        40082.62      2  \n",
              "2       13175.97         7831.28        39156.38      3  \n",
              "3       12444.79         9566.78        44188.96      3  \n",
              "4       11113.55         2310.65        36802.18      3  "
            ]
          },
          "metadata": {
            "tags": []
          },
          "execution_count": 7
        }
      ]
    },
    {
      "cell_type": "code",
      "metadata": {
        "colab": {
          "base_uri": "https://localhost:8080/"
        },
        "id": "YM_8zvJx1Xu_",
        "outputId": "ab607760-df65-4da4-9916-f91447cebff2"
      },
      "source": [
        "# number of unique values in categorical columns\n",
        "for i in ['Year','Organization Group Code','Department Code','Union','Job Family Code','Job']:\n",
        "  print(i,' : ',train[i].nunique())"
      ],
      "execution_count": 8,
      "outputs": [
        {
          "output_type": "stream",
          "text": [
            "Year  :  5\n",
            "Organization Group Code  :  7\n",
            "Department Code  :  56\n",
            "Union  :  77\n",
            "Job Family Code  :  62\n",
            "Job  :  1140\n"
          ],
          "name": "stdout"
        }
      ]
    },
    {
      "cell_type": "markdown",
      "metadata": {
        "id": "d-le_RiZCx8s"
      },
      "source": [
        "## Mean Encoding \n"
      ]
    },
    {
      "cell_type": "code",
      "metadata": {
        "id": "HZuaYpvX7rbX"
      },
      "source": [
        "import sklearn\n",
        "from sklearn.model_selection import StratifiedKFold\n",
        "## 10 fold cv\n",
        "kf = sklearn.model_selection.KFold(n_splits = 10, shuffle = False) "
      ],
      "execution_count": 9,
      "outputs": []
    },
    {
      "cell_type": "code",
      "metadata": {
        "id": "rfFUek9J7uxW"
      },
      "source": [
        "# Mean encoding the categorical features using kfold to minimize bias\n",
        "x = train_new.copy()\n",
        "cols = ['Department Code','Union','Job Family Code','Job']\n",
        "for i in cols: ## Looping through all features   \n",
        "  x['mean_encoded_on'] = np.nan\n",
        "  for tr_ind, val_ind in kf.split(x):\n",
        "      X_tr, X_val = x.iloc[tr_ind], x.iloc[val_ind] ## train-test hold out\n",
        "      x.loc[x.index[val_ind], 'mean_encoded_on'] = X_val[i].map(X_tr.groupby(i).Class.mean())\n",
        "\n",
        "  x = x.rename(index=str, columns={\"mean_encoded_on\": i +\"_K_Encoded\"})"
      ],
      "execution_count": 10,
      "outputs": []
    },
    {
      "cell_type": "code",
      "metadata": {
        "id": "aP0jfC3tiIO5"
      },
      "source": [
        "# Filling the null values with mean of labels taken from the whole dataset\n",
        "x['Job_K_Encoded'].fillna(x['Job'].map(train_new.groupby(['Job']).Class.mean()),inplace=True)\n",
        "x['Job Family Code_K_Encoded'].fillna(x['Job Family Code'].map(train_new.groupby(['Job Family Code']).Class.mean()),inplace=True)\n",
        "x['Union_K_Encoded'].fillna(x['Union'].map(train_new.groupby(['Union']).Class.mean()),inplace=True)"
      ],
      "execution_count": 11,
      "outputs": []
    },
    {
      "cell_type": "code",
      "metadata": {
        "id": "7z8oIBqZWKRp"
      },
      "source": [
        "x1 = test_new.copy()\n",
        "cols = ['Department Code','Union','Job Family Code','Job']\n",
        "for i in cols:\n",
        "  x1['mean_encoded_on'] = np.nan\n",
        "  x1['mean_encoded_on'] = x1[i].map(x.groupby(i).Class.mean())\n",
        "  x1 = x1.rename(index=str, columns={\"mean_encoded_on\": i +\"_K_Encoded\"})"
      ],
      "execution_count": 12,
      "outputs": []
    },
    {
      "cell_type": "code",
      "metadata": {
        "id": "SjoxY5BejVR7"
      },
      "source": [
        "x1['Job_K_Encoded'].fillna(x1['Job'].map(test_new.groupby(['Job']).Class.mean()),inplace=True)"
      ],
      "execution_count": 13,
      "outputs": []
    },
    {
      "cell_type": "markdown",
      "metadata": {
        "id": "VWdfDsa4YNAG"
      },
      "source": [
        "## One hot encoding on year and organization features"
      ]
    },
    {
      "cell_type": "code",
      "metadata": {
        "id": "4zBy48GBYd7-"
      },
      "source": [
        "x['group'] = 'train'\n",
        "x1['group'] = 'test'"
      ],
      "execution_count": 14,
      "outputs": []
    },
    {
      "cell_type": "code",
      "metadata": {
        "colab": {
          "base_uri": "https://localhost:8080/",
          "height": 458
        },
        "id": "6hA-UaPSZHkR",
        "outputId": "97fb5fc5-e293-462f-efc4-d57f8778896e"
      },
      "source": [
        "data = pd.concat((x,x1))\n",
        "data.head()"
      ],
      "execution_count": 15,
      "outputs": [
        {
          "output_type": "execute_result",
          "data": {
            "text/html": [
              "<div>\n",
              "<style scoped>\n",
              "    .dataframe tbody tr th:only-of-type {\n",
              "        vertical-align: middle;\n",
              "    }\n",
              "\n",
              "    .dataframe tbody tr th {\n",
              "        vertical-align: top;\n",
              "    }\n",
              "\n",
              "    .dataframe thead th {\n",
              "        text-align: right;\n",
              "    }\n",
              "</style>\n",
              "<table border=\"1\" class=\"dataframe\">\n",
              "  <thead>\n",
              "    <tr style=\"text-align: right;\">\n",
              "      <th></th>\n",
              "      <th>Year</th>\n",
              "      <th>Organization Group Code</th>\n",
              "      <th>Department Code</th>\n",
              "      <th>Union</th>\n",
              "      <th>Job Family Code</th>\n",
              "      <th>Job</th>\n",
              "      <th>Overtime</th>\n",
              "      <th>Other Salaries</th>\n",
              "      <th>Retirement</th>\n",
              "      <th>Health/Dental</th>\n",
              "      <th>Other Benefits</th>\n",
              "      <th>Total Benefits</th>\n",
              "      <th>Class</th>\n",
              "      <th>Department Code_K_Encoded</th>\n",
              "      <th>Union_K_Encoded</th>\n",
              "      <th>Job Family Code_K_Encoded</th>\n",
              "      <th>Job_K_Encoded</th>\n",
              "      <th>group</th>\n",
              "    </tr>\n",
              "  </thead>\n",
              "  <tbody>\n",
              "    <tr>\n",
              "      <th>0</th>\n",
              "      <td>2015</td>\n",
              "      <td>3</td>\n",
              "      <td>DSS</td>\n",
              "      <td>SEIU - Human Services, Local 1021</td>\n",
              "      <td>2900</td>\n",
              "      <td>Senior Eligibility Worker</td>\n",
              "      <td>4091.51</td>\n",
              "      <td>2066.40</td>\n",
              "      <td>17570.65</td>\n",
              "      <td>12501.45</td>\n",
              "      <td>6740.39</td>\n",
              "      <td>36812.49</td>\n",
              "      <td>2</td>\n",
              "      <td>1.700986</td>\n",
              "      <td>1.993640</td>\n",
              "      <td>2.066503</td>\n",
              "      <td>1.860700</td>\n",
              "      <td>train</td>\n",
              "    </tr>\n",
              "    <tr>\n",
              "      <th>1</th>\n",
              "      <td>2014</td>\n",
              "      <td>2</td>\n",
              "      <td>MTA</td>\n",
              "      <td>Transport Workers - Transit Operators, Local 2...</td>\n",
              "      <td>9100</td>\n",
              "      <td>Transit Operator</td>\n",
              "      <td>27816.21</td>\n",
              "      <td>1185.88</td>\n",
              "      <td>19338.00</td>\n",
              "      <td>13445.88</td>\n",
              "      <td>7298.74</td>\n",
              "      <td>40082.62</td>\n",
              "      <td>2</td>\n",
              "      <td>1.942702</td>\n",
              "      <td>1.734379</td>\n",
              "      <td>1.866387</td>\n",
              "      <td>1.734379</td>\n",
              "      <td>train</td>\n",
              "    </tr>\n",
              "    <tr>\n",
              "      <th>2</th>\n",
              "      <td>2016</td>\n",
              "      <td>5</td>\n",
              "      <td>LIB</td>\n",
              "      <td>SEIU - Miscellaneous, Local 1021</td>\n",
              "      <td>3600</td>\n",
              "      <td>Librarian 2</td>\n",
              "      <td>0.00</td>\n",
              "      <td>1516.36</td>\n",
              "      <td>18149.13</td>\n",
              "      <td>13175.97</td>\n",
              "      <td>7831.28</td>\n",
              "      <td>39156.38</td>\n",
              "      <td>3</td>\n",
              "      <td>1.698099</td>\n",
              "      <td>1.620886</td>\n",
              "      <td>1.645994</td>\n",
              "      <td>2.688889</td>\n",
              "      <td>train</td>\n",
              "    </tr>\n",
              "    <tr>\n",
              "      <th>3</th>\n",
              "      <td>2014</td>\n",
              "      <td>1</td>\n",
              "      <td>ECD</td>\n",
              "      <td>SEIU - Miscellaneous, Local 1021</td>\n",
              "      <td>8200</td>\n",
              "      <td>Public Safetycomm Supv</td>\n",
              "      <td>12235.56</td>\n",
              "      <td>13348.36</td>\n",
              "      <td>22177.39</td>\n",
              "      <td>12444.79</td>\n",
              "      <td>9566.78</td>\n",
              "      <td>44188.96</td>\n",
              "      <td>3</td>\n",
              "      <td>2.407821</td>\n",
              "      <td>1.620886</td>\n",
              "      <td>1.691344</td>\n",
              "      <td>2.657143</td>\n",
              "      <td>train</td>\n",
              "    </tr>\n",
              "    <tr>\n",
              "      <th>4</th>\n",
              "      <td>2015</td>\n",
              "      <td>1</td>\n",
              "      <td>SHF</td>\n",
              "      <td>Deputy Sheriffs' Association</td>\n",
              "      <td>8300</td>\n",
              "      <td>Deputy Sheriff</td>\n",
              "      <td>36837.03</td>\n",
              "      <td>13675.04</td>\n",
              "      <td>23377.98</td>\n",
              "      <td>11113.55</td>\n",
              "      <td>2310.65</td>\n",
              "      <td>36802.18</td>\n",
              "      <td>3</td>\n",
              "      <td>2.552316</td>\n",
              "      <td>2.738871</td>\n",
              "      <td>2.451553</td>\n",
              "      <td>2.877804</td>\n",
              "      <td>train</td>\n",
              "    </tr>\n",
              "  </tbody>\n",
              "</table>\n",
              "</div>"
            ],
            "text/plain": [
              "   Year  Organization Group Code Department Code  \\\n",
              "0  2015                        3             DSS   \n",
              "1  2014                        2             MTA   \n",
              "2  2016                        5             LIB   \n",
              "3  2014                        1             ECD   \n",
              "4  2015                        1             SHF   \n",
              "\n",
              "                                               Union Job Family Code  \\\n",
              "0                  SEIU - Human Services, Local 1021            2900   \n",
              "1  Transport Workers - Transit Operators, Local 2...            9100   \n",
              "2                   SEIU - Miscellaneous, Local 1021            3600   \n",
              "3                   SEIU - Miscellaneous, Local 1021            8200   \n",
              "4                       Deputy Sheriffs' Association            8300   \n",
              "\n",
              "                         Job  Overtime  Other Salaries  Retirement  \\\n",
              "0  Senior Eligibility Worker   4091.51         2066.40    17570.65   \n",
              "1           Transit Operator  27816.21         1185.88    19338.00   \n",
              "2                Librarian 2      0.00         1516.36    18149.13   \n",
              "3     Public Safetycomm Supv  12235.56        13348.36    22177.39   \n",
              "4             Deputy Sheriff  36837.03        13675.04    23377.98   \n",
              "\n",
              "   Health/Dental  Other Benefits  Total Benefits  Class  \\\n",
              "0       12501.45         6740.39        36812.49      2   \n",
              "1       13445.88         7298.74        40082.62      2   \n",
              "2       13175.97         7831.28        39156.38      3   \n",
              "3       12444.79         9566.78        44188.96      3   \n",
              "4       11113.55         2310.65        36802.18      3   \n",
              "\n",
              "   Department Code_K_Encoded  Union_K_Encoded  Job Family Code_K_Encoded  \\\n",
              "0                   1.700986         1.993640                   2.066503   \n",
              "1                   1.942702         1.734379                   1.866387   \n",
              "2                   1.698099         1.620886                   1.645994   \n",
              "3                   2.407821         1.620886                   1.691344   \n",
              "4                   2.552316         2.738871                   2.451553   \n",
              "\n",
              "   Job_K_Encoded  group  \n",
              "0       1.860700  train  \n",
              "1       1.734379  train  \n",
              "2       2.688889  train  \n",
              "3       2.657143  train  \n",
              "4       2.877804  train  "
            ]
          },
          "metadata": {
            "tags": []
          },
          "execution_count": 15
        }
      ]
    },
    {
      "cell_type": "code",
      "metadata": {
        "id": "Goy4RdIAKTR8"
      },
      "source": [
        "year = pd.get_dummies(data['Year'],drop_first=True,prefix='year')\n",
        "organization = pd.get_dummies(data['Organization Group Code'],drop_first=True,prefix='org')"
      ],
      "execution_count": 16,
      "outputs": []
    },
    {
      "cell_type": "code",
      "metadata": {
        "colab": {
          "base_uri": "https://localhost:8080/",
          "height": 240
        },
        "id": "vFFeL4fIDxOL",
        "outputId": "0f8989cc-c4f4-4fd1-a72c-9aec1c345130"
      },
      "source": [
        "data_mean_encoded = pd.concat((data,year,organization),axis=1)\n",
        "data_mean_encoded.drop(['Year','Organization Group Code','Department Code','Union','Job Family Code','Job'],axis=1,inplace=True)\n",
        "data_mean_encoded.head()"
      ],
      "execution_count": 17,
      "outputs": [
        {
          "output_type": "execute_result",
          "data": {
            "text/html": [
              "<div>\n",
              "<style scoped>\n",
              "    .dataframe tbody tr th:only-of-type {\n",
              "        vertical-align: middle;\n",
              "    }\n",
              "\n",
              "    .dataframe tbody tr th {\n",
              "        vertical-align: top;\n",
              "    }\n",
              "\n",
              "    .dataframe thead th {\n",
              "        text-align: right;\n",
              "    }\n",
              "</style>\n",
              "<table border=\"1\" class=\"dataframe\">\n",
              "  <thead>\n",
              "    <tr style=\"text-align: right;\">\n",
              "      <th></th>\n",
              "      <th>Overtime</th>\n",
              "      <th>Other Salaries</th>\n",
              "      <th>Retirement</th>\n",
              "      <th>Health/Dental</th>\n",
              "      <th>Other Benefits</th>\n",
              "      <th>Total Benefits</th>\n",
              "      <th>Class</th>\n",
              "      <th>Department Code_K_Encoded</th>\n",
              "      <th>Union_K_Encoded</th>\n",
              "      <th>Job Family Code_K_Encoded</th>\n",
              "      <th>Job_K_Encoded</th>\n",
              "      <th>group</th>\n",
              "      <th>year_2014</th>\n",
              "      <th>year_2015</th>\n",
              "      <th>year_2016</th>\n",
              "      <th>year_2017</th>\n",
              "      <th>org_2</th>\n",
              "      <th>org_3</th>\n",
              "      <th>org_4</th>\n",
              "      <th>org_5</th>\n",
              "      <th>org_6</th>\n",
              "      <th>org_7</th>\n",
              "    </tr>\n",
              "  </thead>\n",
              "  <tbody>\n",
              "    <tr>\n",
              "      <th>0</th>\n",
              "      <td>4091.51</td>\n",
              "      <td>2066.40</td>\n",
              "      <td>17570.65</td>\n",
              "      <td>12501.45</td>\n",
              "      <td>6740.39</td>\n",
              "      <td>36812.49</td>\n",
              "      <td>2</td>\n",
              "      <td>1.700986</td>\n",
              "      <td>1.993640</td>\n",
              "      <td>2.066503</td>\n",
              "      <td>1.860700</td>\n",
              "      <td>train</td>\n",
              "      <td>0</td>\n",
              "      <td>1</td>\n",
              "      <td>0</td>\n",
              "      <td>0</td>\n",
              "      <td>0</td>\n",
              "      <td>1</td>\n",
              "      <td>0</td>\n",
              "      <td>0</td>\n",
              "      <td>0</td>\n",
              "      <td>0</td>\n",
              "    </tr>\n",
              "    <tr>\n",
              "      <th>1</th>\n",
              "      <td>27816.21</td>\n",
              "      <td>1185.88</td>\n",
              "      <td>19338.00</td>\n",
              "      <td>13445.88</td>\n",
              "      <td>7298.74</td>\n",
              "      <td>40082.62</td>\n",
              "      <td>2</td>\n",
              "      <td>1.942702</td>\n",
              "      <td>1.734379</td>\n",
              "      <td>1.866387</td>\n",
              "      <td>1.734379</td>\n",
              "      <td>train</td>\n",
              "      <td>1</td>\n",
              "      <td>0</td>\n",
              "      <td>0</td>\n",
              "      <td>0</td>\n",
              "      <td>1</td>\n",
              "      <td>0</td>\n",
              "      <td>0</td>\n",
              "      <td>0</td>\n",
              "      <td>0</td>\n",
              "      <td>0</td>\n",
              "    </tr>\n",
              "    <tr>\n",
              "      <th>2</th>\n",
              "      <td>0.00</td>\n",
              "      <td>1516.36</td>\n",
              "      <td>18149.13</td>\n",
              "      <td>13175.97</td>\n",
              "      <td>7831.28</td>\n",
              "      <td>39156.38</td>\n",
              "      <td>3</td>\n",
              "      <td>1.698099</td>\n",
              "      <td>1.620886</td>\n",
              "      <td>1.645994</td>\n",
              "      <td>2.688889</td>\n",
              "      <td>train</td>\n",
              "      <td>0</td>\n",
              "      <td>0</td>\n",
              "      <td>1</td>\n",
              "      <td>0</td>\n",
              "      <td>0</td>\n",
              "      <td>0</td>\n",
              "      <td>0</td>\n",
              "      <td>1</td>\n",
              "      <td>0</td>\n",
              "      <td>0</td>\n",
              "    </tr>\n",
              "    <tr>\n",
              "      <th>3</th>\n",
              "      <td>12235.56</td>\n",
              "      <td>13348.36</td>\n",
              "      <td>22177.39</td>\n",
              "      <td>12444.79</td>\n",
              "      <td>9566.78</td>\n",
              "      <td>44188.96</td>\n",
              "      <td>3</td>\n",
              "      <td>2.407821</td>\n",
              "      <td>1.620886</td>\n",
              "      <td>1.691344</td>\n",
              "      <td>2.657143</td>\n",
              "      <td>train</td>\n",
              "      <td>1</td>\n",
              "      <td>0</td>\n",
              "      <td>0</td>\n",
              "      <td>0</td>\n",
              "      <td>0</td>\n",
              "      <td>0</td>\n",
              "      <td>0</td>\n",
              "      <td>0</td>\n",
              "      <td>0</td>\n",
              "      <td>0</td>\n",
              "    </tr>\n",
              "    <tr>\n",
              "      <th>4</th>\n",
              "      <td>36837.03</td>\n",
              "      <td>13675.04</td>\n",
              "      <td>23377.98</td>\n",
              "      <td>11113.55</td>\n",
              "      <td>2310.65</td>\n",
              "      <td>36802.18</td>\n",
              "      <td>3</td>\n",
              "      <td>2.552316</td>\n",
              "      <td>2.738871</td>\n",
              "      <td>2.451553</td>\n",
              "      <td>2.877804</td>\n",
              "      <td>train</td>\n",
              "      <td>0</td>\n",
              "      <td>1</td>\n",
              "      <td>0</td>\n",
              "      <td>0</td>\n",
              "      <td>0</td>\n",
              "      <td>0</td>\n",
              "      <td>0</td>\n",
              "      <td>0</td>\n",
              "      <td>0</td>\n",
              "      <td>0</td>\n",
              "    </tr>\n",
              "  </tbody>\n",
              "</table>\n",
              "</div>"
            ],
            "text/plain": [
              "   Overtime  Other Salaries  Retirement  Health/Dental  Other Benefits  \\\n",
              "0   4091.51         2066.40    17570.65       12501.45         6740.39   \n",
              "1  27816.21         1185.88    19338.00       13445.88         7298.74   \n",
              "2      0.00         1516.36    18149.13       13175.97         7831.28   \n",
              "3  12235.56        13348.36    22177.39       12444.79         9566.78   \n",
              "4  36837.03        13675.04    23377.98       11113.55         2310.65   \n",
              "\n",
              "   Total Benefits  Class  Department Code_K_Encoded  Union_K_Encoded  \\\n",
              "0        36812.49      2                   1.700986         1.993640   \n",
              "1        40082.62      2                   1.942702         1.734379   \n",
              "2        39156.38      3                   1.698099         1.620886   \n",
              "3        44188.96      3                   2.407821         1.620886   \n",
              "4        36802.18      3                   2.552316         2.738871   \n",
              "\n",
              "   Job Family Code_K_Encoded  Job_K_Encoded  group  year_2014  year_2015  \\\n",
              "0                   2.066503       1.860700  train          0          1   \n",
              "1                   1.866387       1.734379  train          1          0   \n",
              "2                   1.645994       2.688889  train          0          0   \n",
              "3                   1.691344       2.657143  train          1          0   \n",
              "4                   2.451553       2.877804  train          0          1   \n",
              "\n",
              "   year_2016  year_2017  org_2  org_3  org_4  org_5  org_6  org_7  \n",
              "0          0          0      0      1      0      0      0      0  \n",
              "1          0          0      1      0      0      0      0      0  \n",
              "2          1          0      0      0      0      1      0      0  \n",
              "3          0          0      0      0      0      0      0      0  \n",
              "4          0          0      0      0      0      0      0      0  "
            ]
          },
          "metadata": {
            "tags": []
          },
          "execution_count": 17
        }
      ]
    },
    {
      "cell_type": "markdown",
      "metadata": {
        "id": "CZH5UQoq9gSp"
      },
      "source": [
        "### Eliminating irrelavant rows\n",
        "\n",
        "\n",
        "\n",
        "\n"
      ]
    },
    {
      "cell_type": "code",
      "metadata": {
        "id": "-iusBFsTAO5G"
      },
      "source": [
        "df = data_mean_encoded.copy()"
      ],
      "execution_count": 18,
      "outputs": []
    },
    {
      "cell_type": "code",
      "metadata": {
        "id": "gBNYlVm5wbeU"
      },
      "source": [
        "# Eliminate rows having negative values as they don't make sense\n",
        "df = df[(df['Other Salaries']>=0)&(df['Overtime']>=0)&(df['Retirement']>=0)&\\\n",
        "            (df['Health/Dental']>=0)&(df['Other Benefits']>=0)]"
      ],
      "execution_count": 19,
      "outputs": []
    },
    {
      "cell_type": "code",
      "metadata": {
        "id": "9WTU9Ax6wbeU",
        "colab": {
          "base_uri": "https://localhost:8080/"
        },
        "outputId": "cf7f659e-0c4a-4574-83b5-ead71872e88d"
      },
      "source": [
        "df.shape"
      ],
      "execution_count": 20,
      "outputs": [
        {
          "output_type": "execute_result",
          "data": {
            "text/plain": [
              "(148502, 22)"
            ]
          },
          "metadata": {
            "tags": []
          },
          "execution_count": 20
        }
      ]
    },
    {
      "cell_type": "code",
      "metadata": {
        "id": "v4KmekMtwbeV"
      },
      "source": [
        "# Splitting the data into train and test datasets using group column\n",
        "train = df[df['group']=='train'].copy()\n",
        "test = df[df['group']=='test'].copy()"
      ],
      "execution_count": 21,
      "outputs": []
    },
    {
      "cell_type": "code",
      "metadata": {
        "scrolled": false,
        "id": "cmDBCLRmwbeV"
      },
      "source": [
        "# dropping group column\n",
        "train.drop('group',axis=1,inplace=True) "
      ],
      "execution_count": 22,
      "outputs": []
    },
    {
      "cell_type": "code",
      "metadata": {
        "id": "pTh4iy9awbeV"
      },
      "source": [
        "# dropping group and class columns\n",
        "test.drop('group',axis=1,inplace=True)"
      ],
      "execution_count": 23,
      "outputs": []
    },
    {
      "cell_type": "markdown",
      "metadata": {
        "id": "mvZuZtUQwbeV"
      },
      "source": [
        "# Building Models"
      ]
    },
    {
      "cell_type": "code",
      "metadata": {
        "id": "LDIYHHzIwbeW"
      },
      "source": [
        "# defining target variable 'y' \n",
        "x = train.drop('Class',axis=1)\n",
        "y = train['Class']"
      ],
      "execution_count": 24,
      "outputs": []
    },
    {
      "cell_type": "code",
      "metadata": {
        "id": "pIqDU1J-kUC5"
      },
      "source": [
        "from sklearn.model_selection import cross_val_score\n",
        "from sklearn.naive_bayes import GaussianNB\n",
        "from sklearn.linear_model import LogisticRegression\n",
        "from sklearn import tree\n",
        "from sklearn.neighbors import KNeighborsClassifier\n",
        "from sklearn.ensemble import RandomForestClassifier,GradientBoostingClassifier,BaggingClassifier,AdaBoostClassifier\n",
        "from sklearn.svm import SVC\n",
        "from sklearn.model_selection import RandomizedSearchCV,GridSearchCV"
      ],
      "execution_count": 130,
      "outputs": []
    },
    {
      "cell_type": "markdown",
      "metadata": {
        "id": "1uWFOAbDZzez"
      },
      "source": [
        "## cross validation on all models"
      ]
    },
    {
      "cell_type": "code",
      "metadata": {
        "id": "QR44aF1ZZ4vc"
      },
      "source": [
        "clf = tree.DecisionTreeClassifier(random_state=0,max_depth=3)\n",
        "rf = RandomForestClassifier(random_state=0)\n",
        "knn = KNeighborsClassifier()\n",
        "gb = GradientBoostingClassifier(random_state=0,learning_rate=0.1)\n",
        "bagging = BaggingClassifier(base_estimator=tree.DecisionTreeClassifier(random_state=0))\n",
        "adaboost = AdaBoostClassifier(random_state=0)"
      ],
      "execution_count": 36,
      "outputs": []
    },
    {
      "cell_type": "code",
      "metadata": {
        "colab": {
          "base_uri": "https://localhost:8080/"
        },
        "id": "9YjcdTz8bCsI",
        "outputId": "704b0fc5-9fc3-4b89-f5d9-987062193081"
      },
      "source": [
        "models = [clf,rf,knn,gb,bagging,adaboost]\n",
        "accuracy = []\n",
        "for model in models:\n",
        "  cv = []\n",
        "  cv = cross_val_score(model,x,y,cv=5,scoring='accuracy')\n",
        "  accuracy.append(cv.mean())\n",
        "print(accuracy)"
      ],
      "execution_count": 42,
      "outputs": [
        {
          "output_type": "stream",
          "text": [
            "[0.937122644131134, 0.9855974543189209, 0.9691149730558284, 0.9763573820661021, 0.9840711502749953, 0.9386788616999869]\n"
          ],
          "name": "stdout"
        }
      ]
    },
    {
      "cell_type": "code",
      "metadata": {
        "colab": {
          "base_uri": "https://localhost:8080/",
          "height": 234
        },
        "id": "HGXgrfpffVnN",
        "outputId": "78116c44-1008-4fc9-bf60-c8a34df8ed8c"
      },
      "source": [
        "temp = pd.DataFrame({'Model':['Decision Tree','Random Forest','KNearestNeigbours','Gradient Boosting','Bagging','Adaboost'],\n",
        "                     'Accuracy':accuracy})\n",
        "temp.sort_values(by='Accuracy',ascending=False)"
      ],
      "execution_count": 47,
      "outputs": [
        {
          "output_type": "execute_result",
          "data": {
            "text/html": [
              "<div>\n",
              "<style scoped>\n",
              "    .dataframe tbody tr th:only-of-type {\n",
              "        vertical-align: middle;\n",
              "    }\n",
              "\n",
              "    .dataframe tbody tr th {\n",
              "        vertical-align: top;\n",
              "    }\n",
              "\n",
              "    .dataframe thead th {\n",
              "        text-align: right;\n",
              "    }\n",
              "</style>\n",
              "<table border=\"1\" class=\"dataframe\">\n",
              "  <thead>\n",
              "    <tr style=\"text-align: right;\">\n",
              "      <th></th>\n",
              "      <th>Model</th>\n",
              "      <th>Accuracy</th>\n",
              "    </tr>\n",
              "  </thead>\n",
              "  <tbody>\n",
              "    <tr>\n",
              "      <th>1</th>\n",
              "      <td>Random Forest</td>\n",
              "      <td>0.985597</td>\n",
              "    </tr>\n",
              "    <tr>\n",
              "      <th>4</th>\n",
              "      <td>Bagging</td>\n",
              "      <td>0.984071</td>\n",
              "    </tr>\n",
              "    <tr>\n",
              "      <th>3</th>\n",
              "      <td>Gradient Boosting</td>\n",
              "      <td>0.976357</td>\n",
              "    </tr>\n",
              "    <tr>\n",
              "      <th>2</th>\n",
              "      <td>KNearestNeigbours</td>\n",
              "      <td>0.969115</td>\n",
              "    </tr>\n",
              "    <tr>\n",
              "      <th>5</th>\n",
              "      <td>Adaboost</td>\n",
              "      <td>0.938679</td>\n",
              "    </tr>\n",
              "    <tr>\n",
              "      <th>0</th>\n",
              "      <td>Decision Tree</td>\n",
              "      <td>0.937123</td>\n",
              "    </tr>\n",
              "  </tbody>\n",
              "</table>\n",
              "</div>"
            ],
            "text/plain": [
              "               Model  Accuracy\n",
              "1      Random Forest  0.985597\n",
              "4            Bagging  0.984071\n",
              "3  Gradient Boosting  0.976357\n",
              "2  KNearestNeigbours  0.969115\n",
              "5           Adaboost  0.938679\n",
              "0      Decision Tree  0.937123"
            ]
          },
          "metadata": {
            "tags": []
          },
          "execution_count": 47
        }
      ]
    },
    {
      "cell_type": "markdown",
      "metadata": {
        "id": "_AFVXUcfwbeX"
      },
      "source": [
        "## Hyperparameter Tuning\n",
        "\n",
        "\n"
      ]
    },
    {
      "cell_type": "code",
      "metadata": {
        "id": "kNXBjFnSr8-1"
      },
      "source": [
        "xtest = test.drop(['Class'],axis=1).copy()\n",
        "ytest = test['Class']"
      ],
      "execution_count": 60,
      "outputs": []
    },
    {
      "cell_type": "markdown",
      "metadata": {
        "id": "zjpzWoRHwbeY"
      },
      "source": [
        "### RandomizedSearchCV with Decision Tree"
      ]
    },
    {
      "cell_type": "code",
      "metadata": {
        "id": "_Unwx_BqwbeY"
      },
      "source": [
        "# Defining parameter grid\n",
        "param_grid = {'criterion':['gini','entropy'],'min_samples_split':[2,10,20],\\\n",
        "              'max_depth':[None,2,5,10],'min_samples_leaf':[1,5,10],'max_leaf_nodes':[None,5,10,20]}"
      ],
      "execution_count": 77,
      "outputs": []
    },
    {
      "cell_type": "code",
      "metadata": {
        "id": "N-jn9XDgwbeY",
        "colab": {
          "base_uri": "https://localhost:8080/"
        },
        "outputId": "bd491557-c006-47ea-cce9-786459d74a44"
      },
      "source": [
        "# Grid Search with decision tree model\n",
        "dt = tree.DecisionTreeClassifier(random_state=0)  \n",
        "grid_dt = RandomizedSearchCV(dt,param_grid,cv=2,n_jobs=-1,n_iter=40)   # Grid Search and Cross Validation\n",
        "grid_dt.fit(x,y)    # Building model"
      ],
      "execution_count": 78,
      "outputs": [
        {
          "output_type": "execute_result",
          "data": {
            "text/plain": [
              "RandomizedSearchCV(cv=2, error_score=nan,\n",
              "                   estimator=DecisionTreeClassifier(ccp_alpha=0.0,\n",
              "                                                    class_weight=None,\n",
              "                                                    criterion='gini',\n",
              "                                                    max_depth=None,\n",
              "                                                    max_features=None,\n",
              "                                                    max_leaf_nodes=None,\n",
              "                                                    min_impurity_decrease=0.0,\n",
              "                                                    min_impurity_split=None,\n",
              "                                                    min_samples_leaf=1,\n",
              "                                                    min_samples_split=2,\n",
              "                                                    min_weight_fraction_leaf=0.0,\n",
              "                                                    presort='deprecated',\n",
              "                                                    random_state=0,\n",
              "                                                    splitter='best'),\n",
              "                   iid='deprecated', n_iter=40, n_jobs=-1,\n",
              "                   param_distributions={'criterion': ['gini', 'entropy'],\n",
              "                                        'max_depth': [None, 2, 5, 10],\n",
              "                                        'max_leaf_nodes': [None, 5, 10, 20],\n",
              "                                        'min_samples_leaf': [1, 5, 10],\n",
              "                                        'min_samples_split': [2, 10, 20]},\n",
              "                   pre_dispatch='2*n_jobs', random_state=None, refit=True,\n",
              "                   return_train_score=False, scoring=None, verbose=0)"
            ]
          },
          "metadata": {
            "tags": []
          },
          "execution_count": 78
        }
      ]
    },
    {
      "cell_type": "code",
      "metadata": {
        "id": "mH2U7cT4wbeZ",
        "colab": {
          "base_uri": "https://localhost:8080/"
        },
        "outputId": "ce679645-02d2-47b4-b5b4-f2ba07f9ed2f"
      },
      "source": [
        "grid_dt.best_params_   # best parameters among parameter grid"
      ],
      "execution_count": 79,
      "outputs": [
        {
          "output_type": "execute_result",
          "data": {
            "text/plain": [
              "{'criterion': 'entropy',\n",
              " 'max_depth': None,\n",
              " 'max_leaf_nodes': None,\n",
              " 'min_samples_leaf': 5,\n",
              " 'min_samples_split': 2}"
            ]
          },
          "metadata": {
            "tags": []
          },
          "execution_count": 79
        }
      ]
    },
    {
      "cell_type": "code",
      "metadata": {
        "id": "-7qcSkFMwbeZ",
        "colab": {
          "base_uri": "https://localhost:8080/"
        },
        "outputId": "8b3d9bef-ce7b-43df-c646-2ad5344646ff"
      },
      "source": [
        "grid_dt.best_estimator_"
      ],
      "execution_count": 80,
      "outputs": [
        {
          "output_type": "execute_result",
          "data": {
            "text/plain": [
              "DecisionTreeClassifier(ccp_alpha=0.0, class_weight=None, criterion='entropy',\n",
              "                       max_depth=None, max_features=None, max_leaf_nodes=None,\n",
              "                       min_impurity_decrease=0.0, min_impurity_split=None,\n",
              "                       min_samples_leaf=5, min_samples_split=2,\n",
              "                       min_weight_fraction_leaf=0.0, presort='deprecated',\n",
              "                       random_state=0, splitter='best')"
            ]
          },
          "metadata": {
            "tags": []
          },
          "execution_count": 80
        }
      ]
    },
    {
      "cell_type": "code",
      "metadata": {
        "id": "8YYCoxCjwbeZ",
        "colab": {
          "base_uri": "https://localhost:8080/"
        },
        "outputId": "80d7eaf8-5a12-4214-9f60-c1b58e572fc4"
      },
      "source": [
        "tuned_dt = tree.DecisionTreeClassifier(ccp_alpha=0.0, class_weight=None, criterion='entropy',\n",
        "                       max_depth=None, max_features=None, max_leaf_nodes=None,\n",
        "                       min_impurity_decrease=0.0, min_impurity_split=None,\n",
        "                       min_samples_leaf=5, min_samples_split=2,\n",
        "                       min_weight_fraction_leaf=0.0, presort='deprecated',\n",
        "                       random_state=0, splitter='best')\n",
        "tuned_dt.fit(x,y)\n",
        "\n",
        "dt_pred_grid = tuned_dt.predict(xtest)   # prediction using built model\n",
        "dt_pred_grid"
      ],
      "execution_count": 82,
      "outputs": [
        {
          "output_type": "execute_result",
          "data": {
            "text/plain": [
              "array([1, 2, 2, ..., 3, 2, 2])"
            ]
          },
          "metadata": {
            "tags": []
          },
          "execution_count": 82
        }
      ]
    },
    {
      "cell_type": "code",
      "metadata": {
        "id": "9M5eh66bwbeZ",
        "colab": {
          "base_uri": "https://localhost:8080/"
        },
        "outputId": "b9489af9-9260-4e26-8cef-1133ad691c31"
      },
      "source": [
        "dt_accuracy = accuracy_score(val_pred_grid,ytest)   # calculating accuracy score\n",
        "dt_accuracy"
      ],
      "execution_count": 83,
      "outputs": [
        {
          "output_type": "execute_result",
          "data": {
            "text/plain": [
              "0.9831593128999663"
            ]
          },
          "metadata": {
            "tags": []
          },
          "execution_count": 83
        }
      ]
    },
    {
      "cell_type": "code",
      "metadata": {
        "colab": {
          "base_uri": "https://localhost:8080/"
        },
        "id": "GhGKJ4i0spEe",
        "outputId": "0771f560-c114-45ac-90c9-7b71ea56a00f"
      },
      "source": [
        "print(classification_report(ytest,dt_pred_grid))"
      ],
      "execution_count": 84,
      "outputs": [
        {
          "output_type": "stream",
          "text": [
            "              precision    recall  f1-score   support\n",
            "\n",
            "           1       0.99      0.99      0.99      4836\n",
            "           2       0.98      0.97      0.98      4901\n",
            "           3       0.99      0.99      0.99      5108\n",
            "\n",
            "    accuracy                           0.98     14845\n",
            "   macro avg       0.98      0.98      0.98     14845\n",
            "weighted avg       0.98      0.98      0.98     14845\n",
            "\n"
          ],
          "name": "stdout"
        }
      ]
    },
    {
      "cell_type": "markdown",
      "metadata": {
        "id": "mEbpDt5FwbeZ"
      },
      "source": [
        "### RandomizedSearchCV on Random forest"
      ]
    },
    {
      "cell_type": "code",
      "metadata": {
        "id": "3-tL1P9jwbeb"
      },
      "source": [
        "param_grid = {'criterion':['gini','entropy'],'min_samples_split':[2,10,20],\\\n",
        "              'max_depth':[None,2,5,10],'min_samples_leaf':[1,5,10],'max_leaf_nodes':[None,5,10,20]}"
      ],
      "execution_count": 85,
      "outputs": []
    },
    {
      "cell_type": "code",
      "metadata": {
        "id": "cnTIt2HHwbeb",
        "colab": {
          "base_uri": "https://localhost:8080/"
        },
        "outputId": "c5a864a2-2adf-4a5f-de86-9f1dcde16f11"
      },
      "source": [
        "# Grid search with Random Forest Model\n",
        "rf = RandomForestClassifier(random_state=0)\n",
        "grid_rf = RandomizedSearchCV(rf,param_grid,cv=2,n_jobs=4,n_iter=40)\n",
        "grid_rf.fit(x,y)"
      ],
      "execution_count": 87,
      "outputs": [
        {
          "output_type": "execute_result",
          "data": {
            "text/plain": [
              "RandomizedSearchCV(cv=2, error_score=nan,\n",
              "                   estimator=RandomForestClassifier(bootstrap=True,\n",
              "                                                    ccp_alpha=0.0,\n",
              "                                                    class_weight=None,\n",
              "                                                    criterion='gini',\n",
              "                                                    max_depth=None,\n",
              "                                                    max_features='auto',\n",
              "                                                    max_leaf_nodes=None,\n",
              "                                                    max_samples=None,\n",
              "                                                    min_impurity_decrease=0.0,\n",
              "                                                    min_impurity_split=None,\n",
              "                                                    min_samples_leaf=1,\n",
              "                                                    min_samples_split=2,\n",
              "                                                    min_weight_fraction_leaf=0.0,\n",
              "                                                    n_estimators=100,\n",
              "                                                    n_jobs...\n",
              "                                                    oob_score=False,\n",
              "                                                    random_state=0, verbose=0,\n",
              "                                                    warm_start=False),\n",
              "                   iid='deprecated', n_iter=40, n_jobs=4,\n",
              "                   param_distributions={'criterion': ['gini', 'entropy'],\n",
              "                                        'max_depth': [None, 2, 5, 10],\n",
              "                                        'max_leaf_nodes': [None, 5, 10, 20],\n",
              "                                        'min_samples_leaf': [1, 5, 10],\n",
              "                                        'min_samples_split': [2, 10, 20]},\n",
              "                   pre_dispatch='2*n_jobs', random_state=None, refit=True,\n",
              "                   return_train_score=False, scoring=None, verbose=0)"
            ]
          },
          "metadata": {
            "tags": []
          },
          "execution_count": 87
        }
      ]
    },
    {
      "cell_type": "code",
      "metadata": {
        "id": "RWAjSu7Gwbeb",
        "colab": {
          "base_uri": "https://localhost:8080/"
        },
        "outputId": "6c579d04-a298-4e1e-b91d-ae7040f575b9"
      },
      "source": [
        "grid_rf.best_params_   # best parameters among parameter grid"
      ],
      "execution_count": 88,
      "outputs": [
        {
          "output_type": "execute_result",
          "data": {
            "text/plain": [
              "{'criterion': 'entropy',\n",
              " 'max_depth': None,\n",
              " 'max_leaf_nodes': None,\n",
              " 'min_samples_leaf': 1,\n",
              " 'min_samples_split': 20}"
            ]
          },
          "metadata": {
            "tags": []
          },
          "execution_count": 88
        }
      ]
    },
    {
      "cell_type": "code",
      "metadata": {
        "id": "PLjQUMd4wbeb",
        "colab": {
          "base_uri": "https://localhost:8080/",
          "height": 665
        },
        "outputId": "dd929663-c12a-4439-933e-560a4ba02e04"
      },
      "source": [
        "# feature importance\n",
        "importances = grid_rf.best_estimator_.feature_importances_\n",
        "importances = pd.DataFrame([x.columns,importances]).transpose().sort_values(by = 1,ascending=False)\n",
        "importances.columns = ['Variables','Importance']\n",
        "importances"
      ],
      "execution_count": 121,
      "outputs": [
        {
          "output_type": "execute_result",
          "data": {
            "text/html": [
              "<div>\n",
              "<style scoped>\n",
              "    .dataframe tbody tr th:only-of-type {\n",
              "        vertical-align: middle;\n",
              "    }\n",
              "\n",
              "    .dataframe tbody tr th {\n",
              "        vertical-align: top;\n",
              "    }\n",
              "\n",
              "    .dataframe thead th {\n",
              "        text-align: right;\n",
              "    }\n",
              "</style>\n",
              "<table border=\"1\" class=\"dataframe\">\n",
              "  <thead>\n",
              "    <tr style=\"text-align: right;\">\n",
              "      <th></th>\n",
              "      <th>Variables</th>\n",
              "      <th>Importance</th>\n",
              "    </tr>\n",
              "  </thead>\n",
              "  <tbody>\n",
              "    <tr>\n",
              "      <th>2</th>\n",
              "      <td>Retirement</td>\n",
              "      <td>0.296347</td>\n",
              "    </tr>\n",
              "    <tr>\n",
              "      <th>5</th>\n",
              "      <td>Total Benefits</td>\n",
              "      <td>0.192943</td>\n",
              "    </tr>\n",
              "    <tr>\n",
              "      <th>4</th>\n",
              "      <td>Other Benefits</td>\n",
              "      <td>0.161613</td>\n",
              "    </tr>\n",
              "    <tr>\n",
              "      <th>3</th>\n",
              "      <td>Health/Dental</td>\n",
              "      <td>0.104317</td>\n",
              "    </tr>\n",
              "    <tr>\n",
              "      <th>9</th>\n",
              "      <td>Job_K_Encoded</td>\n",
              "      <td>0.0931139</td>\n",
              "    </tr>\n",
              "    <tr>\n",
              "      <th>7</th>\n",
              "      <td>Union_K_Encoded</td>\n",
              "      <td>0.05491</td>\n",
              "    </tr>\n",
              "    <tr>\n",
              "      <th>8</th>\n",
              "      <td>Job Family Code_K_Encoded</td>\n",
              "      <td>0.0287091</td>\n",
              "    </tr>\n",
              "    <tr>\n",
              "      <th>1</th>\n",
              "      <td>Other Salaries</td>\n",
              "      <td>0.0227501</td>\n",
              "    </tr>\n",
              "    <tr>\n",
              "      <th>6</th>\n",
              "      <td>Department Code_K_Encoded</td>\n",
              "      <td>0.0141601</td>\n",
              "    </tr>\n",
              "    <tr>\n",
              "      <th>0</th>\n",
              "      <td>Overtime</td>\n",
              "      <td>0.0133426</td>\n",
              "    </tr>\n",
              "    <tr>\n",
              "      <th>11</th>\n",
              "      <td>year_2015</td>\n",
              "      <td>0.00378221</td>\n",
              "    </tr>\n",
              "    <tr>\n",
              "      <th>10</th>\n",
              "      <td>year_2014</td>\n",
              "      <td>0.00292963</td>\n",
              "    </tr>\n",
              "    <tr>\n",
              "      <th>14</th>\n",
              "      <td>org_2</td>\n",
              "      <td>0.00286533</td>\n",
              "    </tr>\n",
              "    <tr>\n",
              "      <th>13</th>\n",
              "      <td>year_2017</td>\n",
              "      <td>0.00241716</td>\n",
              "    </tr>\n",
              "    <tr>\n",
              "      <th>16</th>\n",
              "      <td>org_4</td>\n",
              "      <td>0.00238967</td>\n",
              "    </tr>\n",
              "    <tr>\n",
              "      <th>12</th>\n",
              "      <td>year_2016</td>\n",
              "      <td>0.00162934</td>\n",
              "    </tr>\n",
              "    <tr>\n",
              "      <th>17</th>\n",
              "      <td>org_5</td>\n",
              "      <td>0.00105443</td>\n",
              "    </tr>\n",
              "    <tr>\n",
              "      <th>15</th>\n",
              "      <td>org_3</td>\n",
              "      <td>0.00042354</td>\n",
              "    </tr>\n",
              "    <tr>\n",
              "      <th>18</th>\n",
              "      <td>org_6</td>\n",
              "      <td>0.000294028</td>\n",
              "    </tr>\n",
              "    <tr>\n",
              "      <th>19</th>\n",
              "      <td>org_7</td>\n",
              "      <td>9.54693e-06</td>\n",
              "    </tr>\n",
              "  </tbody>\n",
              "</table>\n",
              "</div>"
            ],
            "text/plain": [
              "                    Variables   Importance\n",
              "2                  Retirement     0.296347\n",
              "5              Total Benefits     0.192943\n",
              "4              Other Benefits     0.161613\n",
              "3               Health/Dental     0.104317\n",
              "9               Job_K_Encoded    0.0931139\n",
              "7             Union_K_Encoded      0.05491\n",
              "8   Job Family Code_K_Encoded    0.0287091\n",
              "1              Other Salaries    0.0227501\n",
              "6   Department Code_K_Encoded    0.0141601\n",
              "0                    Overtime    0.0133426\n",
              "11                  year_2015   0.00378221\n",
              "10                  year_2014   0.00292963\n",
              "14                      org_2   0.00286533\n",
              "13                  year_2017   0.00241716\n",
              "16                      org_4   0.00238967\n",
              "12                  year_2016   0.00162934\n",
              "17                      org_5   0.00105443\n",
              "15                      org_3   0.00042354\n",
              "18                      org_6  0.000294028\n",
              "19                      org_7  9.54693e-06"
            ]
          },
          "metadata": {
            "tags": []
          },
          "execution_count": 121
        }
      ]
    },
    {
      "cell_type": "code",
      "metadata": {
        "colab": {
          "base_uri": "https://localhost:8080/"
        },
        "id": "D1ZmpPbSM78v",
        "outputId": "2cfe7b63-43fb-43fd-c45f-365c4d860fec"
      },
      "source": [
        "grid_rf.best_estimator_"
      ],
      "execution_count": 101,
      "outputs": [
        {
          "output_type": "execute_result",
          "data": {
            "text/plain": [
              "RandomForestClassifier(bootstrap=True, ccp_alpha=0.0, class_weight=None,\n",
              "                       criterion='entropy', max_depth=None, max_features='auto',\n",
              "                       max_leaf_nodes=None, max_samples=None,\n",
              "                       min_impurity_decrease=0.0, min_impurity_split=None,\n",
              "                       min_samples_leaf=1, min_samples_split=20,\n",
              "                       min_weight_fraction_leaf=0.0, n_estimators=100,\n",
              "                       n_jobs=None, oob_score=False, random_state=0, verbose=0,\n",
              "                       warm_start=False)"
            ]
          },
          "metadata": {
            "tags": []
          },
          "execution_count": 101
        }
      ]
    },
    {
      "cell_type": "code",
      "metadata": {
        "colab": {
          "base_uri": "https://localhost:8080/"
        },
        "id": "eeaKcuMXMciP",
        "outputId": "62577d7e-3d07-4bd9-82a9-66131a5cecb4"
      },
      "source": [
        "tuned_rf = RandomForestClassifier(bootstrap=True, ccp_alpha=0.0, class_weight=None,\n",
        "                       criterion='entropy', max_depth=None, max_features='auto',\n",
        "                       max_leaf_nodes=None, max_samples=None,\n",
        "                       min_impurity_decrease=0.0, min_impurity_split=None,\n",
        "                       min_samples_leaf=1, min_samples_split=20,\n",
        "                       min_weight_fraction_leaf=0.0, n_estimators=100,\n",
        "                       n_jobs=None, oob_score=False, random_state=0, verbose=0,\n",
        "                       warm_start=False)\n",
        "\n",
        "tuned_rf.fit(x,y)\n",
        "rf_pred_grid = tuned_rf.predict(xtest) # prediction using RF model\n",
        "rf_pred_grid"
      ],
      "execution_count": 102,
      "outputs": [
        {
          "output_type": "execute_result",
          "data": {
            "text/plain": [
              "array([1, 2, 2, ..., 3, 2, 2])"
            ]
          },
          "metadata": {
            "tags": []
          },
          "execution_count": 102
        }
      ]
    },
    {
      "cell_type": "code",
      "metadata": {
        "colab": {
          "base_uri": "https://localhost:8080/"
        },
        "id": "EVPU2aXwNPBr",
        "outputId": "68321840-ea37-4a5f-8f46-b675105f546a"
      },
      "source": [
        "accuracy_score(rf_pred_grid,ytest)"
      ],
      "execution_count": 103,
      "outputs": [
        {
          "output_type": "execute_result",
          "data": {
            "text/plain": [
              "0.9868642640619737"
            ]
          },
          "metadata": {
            "tags": []
          },
          "execution_count": 103
        }
      ]
    },
    {
      "cell_type": "code",
      "metadata": {
        "colab": {
          "base_uri": "https://localhost:8080/"
        },
        "id": "d-tsuPp4x895",
        "outputId": "1e0cc3c7-f8a6-4346-d82a-4a4aadb2fbcd"
      },
      "source": [
        "# Using the top_n important features for model building\n",
        "top_n = importances['Variables'][:14]\n",
        "tuned_rf_n = RandomForestClassifier(bootstrap=True, ccp_alpha=0.0, class_weight=None,\n",
        "                       criterion='entropy', max_depth=None, max_features='auto',\n",
        "                       max_leaf_nodes=None, max_samples=None,\n",
        "                       min_impurity_decrease=0.0, min_impurity_split=None,\n",
        "                       min_samples_leaf=1, min_samples_split=20,\n",
        "                       min_weight_fraction_leaf=0.0, n_estimators=100,\n",
        "                       n_jobs=None, oob_score=False, random_state=0, verbose=0,\n",
        "                       warm_start=False)\n",
        "\n",
        "tuned_rf_n.fit(x[top_n],y)\n",
        "rf_n_pred_grid = tuned_rf_n.predict(xtest[top_n])\n",
        "rf_n_pred_grid"
      ],
      "execution_count": 127,
      "outputs": [
        {
          "output_type": "execute_result",
          "data": {
            "text/plain": [
              "array([1, 2, 2, ..., 3, 2, 2])"
            ]
          },
          "metadata": {
            "tags": []
          },
          "execution_count": 127
        }
      ]
    },
    {
      "cell_type": "code",
      "metadata": {
        "colab": {
          "base_uri": "https://localhost:8080/"
        },
        "id": "3AWzkP-YyixD",
        "outputId": "67070744-8b88-41b2-e306-077988f7d1e0"
      },
      "source": [
        "rf_accuracy = accuracy_score(rf_n_pred_grid,ytest)\n",
        "rf_accuracy"
      ],
      "execution_count": 157,
      "outputs": [
        {
          "output_type": "execute_result",
          "data": {
            "text/plain": [
              "0.9870663523071741"
            ]
          },
          "metadata": {
            "tags": []
          },
          "execution_count": 157
        }
      ]
    },
    {
      "cell_type": "markdown",
      "metadata": {
        "id": "EZA_-eE0wbec"
      },
      "source": [
        "### GridSearchCV on KNN"
      ]
    },
    {
      "cell_type": "code",
      "metadata": {
        "id": "S4W-qpjDwbed"
      },
      "source": [
        "param_grid = {'n_neighbors' : [3,5,7,9],'metric' : ['euclidean','manhattan','minkowski']}"
      ],
      "execution_count": 138,
      "outputs": []
    },
    {
      "cell_type": "code",
      "metadata": {
        "id": "faOApZi2wbed",
        "colab": {
          "base_uri": "https://localhost:8080/"
        },
        "outputId": "33f75419-f260-4cee-84e9-9072e526bbf3"
      },
      "source": [
        "from sklearn.model_selection import GridSearchCV\n",
        "knn = KNeighborsClassifier()\n",
        "grid_knn = GridSearchCV(knn,param_grid,cv=2)\n",
        "grid_knn.fit(x,y)"
      ],
      "execution_count": 139,
      "outputs": [
        {
          "output_type": "execute_result",
          "data": {
            "text/plain": [
              "GridSearchCV(cv=2, error_score=nan,\n",
              "             estimator=KNeighborsClassifier(algorithm='auto', leaf_size=30,\n",
              "                                            metric='minkowski',\n",
              "                                            metric_params=None, n_jobs=None,\n",
              "                                            n_neighbors=5, p=2,\n",
              "                                            weights='uniform'),\n",
              "             iid='deprecated', n_jobs=None,\n",
              "             param_grid={'metric': ['euclidean', 'manhattan', 'minkowski'],\n",
              "                         'n_neighbors': [3, 5, 7, 9]},\n",
              "             pre_dispatch='2*n_jobs', refit=True, return_train_score=False,\n",
              "             scoring=None, verbose=0)"
            ]
          },
          "metadata": {
            "tags": []
          },
          "execution_count": 139
        }
      ]
    },
    {
      "cell_type": "code",
      "metadata": {
        "id": "T52qZIIEwbed",
        "colab": {
          "base_uri": "https://localhost:8080/"
        },
        "outputId": "630b431e-f4c1-41bd-9c8a-b6852667d630"
      },
      "source": [
        "grid_knn.best_estimator_"
      ],
      "execution_count": 140,
      "outputs": [
        {
          "output_type": "execute_result",
          "data": {
            "text/plain": [
              "KNeighborsClassifier(algorithm='auto', leaf_size=30, metric='manhattan',\n",
              "                     metric_params=None, n_jobs=None, n_neighbors=5, p=2,\n",
              "                     weights='uniform')"
            ]
          },
          "metadata": {
            "tags": []
          },
          "execution_count": 140
        }
      ]
    },
    {
      "cell_type": "code",
      "metadata": {
        "id": "HVa24TTpwbed"
      },
      "source": [
        "grid_knn = KNeighborsClassifier(algorithm='auto', leaf_size=30, metric='manhattan',\n",
        "                     metric_params=None, n_jobs=None, n_neighbors=5, p=2,\n",
        "                     weights='uniform')\n",
        "grid_knn.fit(x,y)\n",
        "knn_pred_grid = grid_knn.predict(xtest)   # prediction of validation target variable using model"
      ],
      "execution_count": 141,
      "outputs": []
    },
    {
      "cell_type": "code",
      "metadata": {
        "id": "-Cqvg-g_wbed",
        "colab": {
          "base_uri": "https://localhost:8080/"
        },
        "outputId": "a83a76b7-004f-49ae-e4fd-14ca0e76c417"
      },
      "source": [
        "knn_accuracy = accuracy_score(knn_pred_grid,ytest)\n",
        "knn_accuracy"
      ],
      "execution_count": 158,
      "outputs": [
        {
          "output_type": "execute_result",
          "data": {
            "text/plain": [
              "0.9729201751431459"
            ]
          },
          "metadata": {
            "tags": []
          },
          "execution_count": 158
        }
      ]
    },
    {
      "cell_type": "markdown",
      "metadata": {
        "id": "hLF9YM18wbed"
      },
      "source": [
        "### Bagging Classifier"
      ]
    },
    {
      "cell_type": "code",
      "metadata": {
        "id": "CG-cqbxSwbee"
      },
      "source": [
        "bagging = BaggingClassifier(tree.DecisionTreeClassifier(random_state=1))\n",
        "bagging.fit(x,y)\n",
        "bagging_pred = bagging.predict(xtest)"
      ],
      "execution_count": 151,
      "outputs": []
    },
    {
      "cell_type": "code",
      "metadata": {
        "id": "uN_IWyG6wbee",
        "colab": {
          "base_uri": "https://localhost:8080/"
        },
        "outputId": "2bb7e52f-ebc9-4d36-ebe5-99a79fa37ff0"
      },
      "source": [
        "bagging_accuracy = accuracy_score(bagging_pred,ytest)\n",
        "bagging_accuracy"
      ],
      "execution_count": 159,
      "outputs": [
        {
          "output_type": "execute_result",
          "data": {
            "text/plain": [
              "0.9872684405523745"
            ]
          },
          "metadata": {
            "tags": []
          },
          "execution_count": 159
        }
      ]
    },
    {
      "cell_type": "markdown",
      "metadata": {
        "id": "Isy7QDRvBIwd"
      },
      "source": [
        "### Gradient Boosting"
      ]
    },
    {
      "cell_type": "code",
      "metadata": {
        "colab": {
          "base_uri": "https://localhost:8080/"
        },
        "id": "7vbzeERvBLe3",
        "outputId": "397c7b8f-66d9-4a4e-cfc3-282021fc13cd"
      },
      "source": [
        "boost = GradientBoostingClassifier(random_state=1)\n",
        "param_grid = {'learning_rate':[0.01,0.05,0.1,0.005]}\n",
        "boost_grid = GridSearchCV(boost,param_grid,cv=2,scoring='accuracy')\n",
        "boost_grid.fit(x,y)"
      ],
      "execution_count": 153,
      "outputs": [
        {
          "output_type": "execute_result",
          "data": {
            "text/plain": [
              "GridSearchCV(cv=2, error_score=nan,\n",
              "             estimator=GradientBoostingClassifier(ccp_alpha=0.0,\n",
              "                                                  criterion='friedman_mse',\n",
              "                                                  init=None, learning_rate=0.1,\n",
              "                                                  loss='deviance', max_depth=3,\n",
              "                                                  max_features=None,\n",
              "                                                  max_leaf_nodes=None,\n",
              "                                                  min_impurity_decrease=0.0,\n",
              "                                                  min_impurity_split=None,\n",
              "                                                  min_samples_leaf=1,\n",
              "                                                  min_samples_split=2,\n",
              "                                                  min_weight_fraction_leaf=0.0,\n",
              "                                                  n_estimators=100,\n",
              "                                                  n_iter_no_change=None,\n",
              "                                                  presort='deprecated',\n",
              "                                                  random_state=1, subsample=1.0,\n",
              "                                                  tol=0.0001,\n",
              "                                                  validation_fraction=0.1,\n",
              "                                                  verbose=0, warm_start=False),\n",
              "             iid='deprecated', n_jobs=None,\n",
              "             param_grid={'learning_rate': [0.01, 0.05, 0.1, 0.005]},\n",
              "             pre_dispatch='2*n_jobs', refit=True, return_train_score=False,\n",
              "             scoring='accuracy', verbose=0)"
            ]
          },
          "metadata": {
            "tags": []
          },
          "execution_count": 153
        }
      ]
    },
    {
      "cell_type": "code",
      "metadata": {
        "colab": {
          "base_uri": "https://localhost:8080/"
        },
        "id": "o5aRN9FcCoU-",
        "outputId": "76e782d0-9cfa-41ea-f5eb-ba5bdc188f9f"
      },
      "source": [
        "boost_grid.best_estimator_"
      ],
      "execution_count": 155,
      "outputs": [
        {
          "output_type": "execute_result",
          "data": {
            "text/plain": [
              "GradientBoostingClassifier(ccp_alpha=0.0, criterion='friedman_mse', init=None,\n",
              "                           learning_rate=0.1, loss='deviance', max_depth=3,\n",
              "                           max_features=None, max_leaf_nodes=None,\n",
              "                           min_impurity_decrease=0.0, min_impurity_split=None,\n",
              "                           min_samples_leaf=1, min_samples_split=2,\n",
              "                           min_weight_fraction_leaf=0.0, n_estimators=100,\n",
              "                           n_iter_no_change=None, presort='deprecated',\n",
              "                           random_state=1, subsample=1.0, tol=0.0001,\n",
              "                           validation_fraction=0.1, verbose=0,\n",
              "                           warm_start=False)"
            ]
          },
          "metadata": {
            "tags": []
          },
          "execution_count": 155
        }
      ]
    },
    {
      "cell_type": "code",
      "metadata": {
        "id": "TqIiDN81CrjS"
      },
      "source": [
        "boost = GradientBoostingClassifier(ccp_alpha=0.0, criterion='friedman_mse', init=None,\n",
        "                           learning_rate=0.1, loss='deviance', max_depth=3,\n",
        "                           max_features=None, max_leaf_nodes=None,\n",
        "                           min_impurity_decrease=0.0, min_impurity_split=None,\n",
        "                           min_samples_leaf=1, min_samples_split=2,\n",
        "                           min_weight_fraction_leaf=0.0, n_estimators=100,\n",
        "                           n_iter_no_change=None, presort='deprecated',\n",
        "                           random_state=1, subsample=1.0, tol=0.0001,\n",
        "                           validation_fraction=0.1, verbose=0,\n",
        "                           warm_start=False)\n",
        "boost.fit(x,y)\n",
        "boost_pred = boost.predict(xtest)"
      ],
      "execution_count": 156,
      "outputs": []
    },
    {
      "cell_type": "code",
      "metadata": {
        "colab": {
          "base_uri": "https://localhost:8080/"
        },
        "id": "XSqv7KYcC1hy",
        "outputId": "a073df77-9c23-4def-de6c-e4e9f342f6d8"
      },
      "source": [
        "gb_accuracy = accuracy_score(boost_pred,ytest)\n",
        "gb_accuracy"
      ],
      "execution_count": 160,
      "outputs": [
        {
          "output_type": "execute_result",
          "data": {
            "text/plain": [
              "0.9768272145503537"
            ]
          },
          "metadata": {
            "tags": []
          },
          "execution_count": 160
        }
      ]
    },
    {
      "cell_type": "markdown",
      "metadata": {
        "id": "t1FWQGPkwbee"
      },
      "source": [
        "### AdaBoost Classifier"
      ]
    },
    {
      "cell_type": "code",
      "metadata": {
        "id": "Y5dRMUPR-fUx"
      },
      "source": [
        "param_grid = {\"n_estimators\": [5, 10, 15, 20, 25, 50, 75, 100], \n",
        "              \"learning_rate\": [0.001, 0.01, 0.1, 1]}"
      ],
      "execution_count": 143,
      "outputs": []
    },
    {
      "cell_type": "code",
      "metadata": {
        "id": "1RErXSFjwbee",
        "colab": {
          "base_uri": "https://localhost:8080/"
        },
        "outputId": "10925098-3e7b-4d1e-f9a4-6f50425af78c"
      },
      "source": [
        "adaboost = AdaBoostClassifier(random_state=1)\n",
        "adaboost_grid = GridSearchCV(adaboost,param_grid,cv=2,scoring='accuracy')\n",
        "adaboost_grid.fit(x,y)"
      ],
      "execution_count": 145,
      "outputs": [
        {
          "output_type": "execute_result",
          "data": {
            "text/plain": [
              "GridSearchCV(cv=2, error_score=nan,\n",
              "             estimator=AdaBoostClassifier(algorithm='SAMME.R',\n",
              "                                          base_estimator=None,\n",
              "                                          learning_rate=1.0, n_estimators=50,\n",
              "                                          random_state=1),\n",
              "             iid='deprecated', n_jobs=None,\n",
              "             param_grid={'learning_rate': [0.001, 0.01, 0.1, 1],\n",
              "                         'n_estimators': [5, 10, 15, 20, 25, 50, 75, 100]},\n",
              "             pre_dispatch='2*n_jobs', refit=True, return_train_score=False,\n",
              "             scoring='accuracy', verbose=0)"
            ]
          },
          "metadata": {
            "tags": []
          },
          "execution_count": 145
        }
      ]
    },
    {
      "cell_type": "code",
      "metadata": {
        "colab": {
          "base_uri": "https://localhost:8080/"
        },
        "id": "6cQWj44c_AgJ",
        "outputId": "f9880a02-2281-4181-974a-73b2101fc0dd"
      },
      "source": [
        "adaboost_grid.best_estimator_"
      ],
      "execution_count": 146,
      "outputs": [
        {
          "output_type": "execute_result",
          "data": {
            "text/plain": [
              "AdaBoostClassifier(algorithm='SAMME.R', base_estimator=None, learning_rate=1,\n",
              "                   n_estimators=75, random_state=1)"
            ]
          },
          "metadata": {
            "tags": []
          },
          "execution_count": 146
        }
      ]
    },
    {
      "cell_type": "code",
      "metadata": {
        "id": "DqSTmKBeAXqM"
      },
      "source": [
        "tuned_adaboost = AdaBoostClassifier(algorithm='SAMME.R', base_estimator=None, learning_rate=1,\n",
        "                   n_estimators=75, random_state=1)\n",
        "tuned_adaboost.fit(x,y)\n",
        "adaboost_pred_grid = tuned_adaboost.predict(xtest)"
      ],
      "execution_count": 147,
      "outputs": []
    },
    {
      "cell_type": "code",
      "metadata": {
        "colab": {
          "base_uri": "https://localhost:8080/"
        },
        "id": "mp7rOho2ApjR",
        "outputId": "0e4ae4cd-00ad-47bf-df97-3783b32a04b1"
      },
      "source": [
        "adaboost_accuracy = accuracy_score(ytest,adaboost_pred_grid)\n",
        "adaboost_accuracy"
      ],
      "execution_count": 161,
      "outputs": [
        {
          "output_type": "execute_result",
          "data": {
            "text/plain": [
              "0.9471202425058942"
            ]
          },
          "metadata": {
            "tags": []
          },
          "execution_count": 161
        }
      ]
    },
    {
      "cell_type": "markdown",
      "metadata": {
        "id": "YIlR5WWDGHxW"
      },
      "source": [
        "## Model Accuracies"
      ]
    },
    {
      "cell_type": "code",
      "metadata": {
        "colab": {
          "base_uri": "https://localhost:8080/",
          "height": 234
        },
        "id": "Wc1jwABeF804",
        "outputId": "f08adbc5-94dc-4ef7-bb71-b6fe94c39a50"
      },
      "source": [
        "accuracy = [dt_accuracy,rf_accuracy,knn_accuracy,gb_accuracy,bagging_accuracy,adaboost_accuracy]\n",
        "temp = pd.DataFrame({'Model':['Decision Tree','Random Forest','KNearestNeigbours','Gradient Boosting','Bagging','Adaboost'],\n",
        "                     'Accuracy':accuracy})\n",
        "temp.sort_values(by='Accuracy',ascending=False)"
      ],
      "execution_count": 162,
      "outputs": [
        {
          "output_type": "execute_result",
          "data": {
            "text/html": [
              "<div>\n",
              "<style scoped>\n",
              "    .dataframe tbody tr th:only-of-type {\n",
              "        vertical-align: middle;\n",
              "    }\n",
              "\n",
              "    .dataframe tbody tr th {\n",
              "        vertical-align: top;\n",
              "    }\n",
              "\n",
              "    .dataframe thead th {\n",
              "        text-align: right;\n",
              "    }\n",
              "</style>\n",
              "<table border=\"1\" class=\"dataframe\">\n",
              "  <thead>\n",
              "    <tr style=\"text-align: right;\">\n",
              "      <th></th>\n",
              "      <th>Model</th>\n",
              "      <th>Accuracy</th>\n",
              "    </tr>\n",
              "  </thead>\n",
              "  <tbody>\n",
              "    <tr>\n",
              "      <th>4</th>\n",
              "      <td>Bagging</td>\n",
              "      <td>0.987268</td>\n",
              "    </tr>\n",
              "    <tr>\n",
              "      <th>1</th>\n",
              "      <td>Random Forest</td>\n",
              "      <td>0.987066</td>\n",
              "    </tr>\n",
              "    <tr>\n",
              "      <th>0</th>\n",
              "      <td>Decision Tree</td>\n",
              "      <td>0.983159</td>\n",
              "    </tr>\n",
              "    <tr>\n",
              "      <th>3</th>\n",
              "      <td>Gradient Boosting</td>\n",
              "      <td>0.976827</td>\n",
              "    </tr>\n",
              "    <tr>\n",
              "      <th>2</th>\n",
              "      <td>KNearestNeigbours</td>\n",
              "      <td>0.972920</td>\n",
              "    </tr>\n",
              "    <tr>\n",
              "      <th>5</th>\n",
              "      <td>Adaboost</td>\n",
              "      <td>0.947120</td>\n",
              "    </tr>\n",
              "  </tbody>\n",
              "</table>\n",
              "</div>"
            ],
            "text/plain": [
              "               Model  Accuracy\n",
              "4            Bagging  0.987268\n",
              "1      Random Forest  0.987066\n",
              "0      Decision Tree  0.983159\n",
              "3  Gradient Boosting  0.976827\n",
              "2  KNearestNeigbours  0.972920\n",
              "5           Adaboost  0.947120"
            ]
          },
          "metadata": {
            "tags": []
          },
          "execution_count": 162
        }
      ]
    },
    {
      "cell_type": "markdown",
      "metadata": {
        "id": "tv5sSYEiGiSJ"
      },
      "source": [
        "As the dataset is balanced, we can use accuracy as the metric to measure the performance of these models"
      ]
    }
  ]
}